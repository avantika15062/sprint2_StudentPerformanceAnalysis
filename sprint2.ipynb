{
 "cells": [
  {
   "cell_type": "markdown",
   "metadata": {},
   "source": [
    "# **PROJECT NAME - STUDENT PERFORMANCE DATA ANALYSIS**\n",
    "## Implemented By Avantika Singh"
   ]
  },
  {
   "cell_type": "markdown",
   "metadata": {},
   "source": [
    "# **OBJECTIVE**\n",
    "The objective of this project is to analyze a student performance dataset to derive meaningful insights that can help stakeholders (teachers, administrators, and policymakers) improve academic outcomes. Specifically:\n",
    "\n",
    "i) Understand Student Performance:\n",
    "\n",
    "Analyze Test Scores across various factors like Attendance Rate, Study Hours, Gender, Grade Level, and Participation Level.\n",
    "Identify Key Influencers of Academic Success:\n",
    "\n",
    "ii) Explore correlations between Test Score and:\n",
    "Attendance Rate\n",
    "Study Hours Per Week\n",
    "Teacher Rating\n",
    "Other categorical attributes like Gender and Participation Level.\n",
    "Visualize Trends and Patterns:\n",
    "\n",
    "iii) Create visualizations to:\n",
    "Understand distributions of numerical data (e.g., Test Scores, Attendance).\n",
    "Compare performance across different Grade Levels, Subjects, and Participation Levels.\n"
   ]
  },
  {
   "cell_type": "markdown",
   "metadata": {},
   "source": [
    "# **Github Link**\n",
    "https://github.com/avantika15062/sprint2_StudentPerformanceAnalysis.git"
   ]
  },
  {
   "cell_type": "markdown",
   "metadata": {},
   "source": [
    " **Importing Necessary Packages**"
   ]
  },
  {
   "cell_type": "code",
   "execution_count": 1,
   "metadata": {},
   "outputs": [],
   "source": [
    "# Importing the necessary packages for data manipulation and visualisation\n",
    "import mysql.connector  # Importing the `mysql.connector` module, which provides a Python interface for connecting \n",
    "import pandas as pd   # Imports pandas for data manipulation and analysis\n",
    "import numpy as np   # Imports NumPy for numerical operations\n",
    "import matplotlib.pyplot as plt     # Imports Matplotlib for plotting graphs and figures\n",
    "import seaborn as sns   # Imports Seaborn for statistical data visualization"
   ]
  },
  {
   "cell_type": "markdown",
   "metadata": {},
   "source": [
    "**Establishes a Connection to localhost Mysql Database**"
   ]
  },
  {
   "cell_type": "code",
   "execution_count": 2,
   "metadata": {},
   "outputs": [],
   "source": [
    "db_connection = mysql.connector.connect(\n",
    "    host=\"localhost\",\n",
    "    user=\"root\",\n",
    "    password=\"admin\",\n",
    "    database=\"StudentPerformance\"   # write here database name \n",
    ")"
   ]
  },
  {
   "cell_type": "markdown",
   "metadata": {},
   "source": [
    "**Insight**\n",
    "\n",
    "The code establishes a connection to a locally hosted MySQL database (shoppingtrenddb) using the mysql.connector.connect method, allowing you to perform SQL operations in Python. Ensure to manage sensitive data securely and handle errors appropriately."
   ]
  },
  {
   "cell_type": "code",
   "execution_count": 3,
   "metadata": {},
   "outputs": [],
   "source": [
    "query = \"\"\"\n",
    "SELECT * \n",
    "FROM StudentPerformance;\n",
    "\"\"\""
   ]
  },
  {
   "cell_type": "code",
   "execution_count": 4,
   "metadata": {},
   "outputs": [
    {
     "name": "stderr",
     "output_type": "stream",
     "text": [
      "C:\\Users\\lenovo\\AppData\\Local\\Temp\\ipykernel_44484\\2573963974.py:2: UserWarning: pandas only supports SQLAlchemy connectable (engine/connection) or database string URI or sqlite3 DBAPI2 connection. Other DBAPI2 objects are not tested. Please consider using SQLAlchemy.\n",
      "  df = pd.read_sql(query, db_connection)\n"
     ]
    },
    {
     "data": {
      "text/html": [
       "<div>\n",
       "<style scoped>\n",
       "    .dataframe tbody tr th:only-of-type {\n",
       "        vertical-align: middle;\n",
       "    }\n",
       "\n",
       "    .dataframe tbody tr th {\n",
       "        vertical-align: top;\n",
       "    }\n",
       "\n",
       "    .dataframe thead th {\n",
       "        text-align: right;\n",
       "    }\n",
       "</style>\n",
       "<table border=\"1\" class=\"dataframe\">\n",
       "  <thead>\n",
       "    <tr style=\"text-align: right;\">\n",
       "      <th></th>\n",
       "      <th>Student_ID</th>\n",
       "      <th>Student_Name</th>\n",
       "      <th>Gender</th>\n",
       "      <th>Age</th>\n",
       "      <th>Grade_Level</th>\n",
       "      <th>Subject</th>\n",
       "      <th>Test_Score</th>\n",
       "      <th>Attendance_Rate</th>\n",
       "      <th>Study_Hours_Per_Week</th>\n",
       "      <th>Participation_Level</th>\n",
       "      <th>Teacher_Rating</th>\n",
       "      <th>Year</th>\n",
       "    </tr>\n",
       "  </thead>\n",
       "  <tbody>\n",
       "    <tr>\n",
       "      <th>0</th>\n",
       "      <td>1</td>\n",
       "      <td>Alice Smith</td>\n",
       "      <td>Female</td>\n",
       "      <td>14</td>\n",
       "      <td>8th Grade</td>\n",
       "      <td>Mathematics</td>\n",
       "      <td>85.5</td>\n",
       "      <td>95.0</td>\n",
       "      <td>12.5</td>\n",
       "      <td>High</td>\n",
       "      <td>4.5</td>\n",
       "      <td>2023</td>\n",
       "    </tr>\n",
       "    <tr>\n",
       "      <th>1</th>\n",
       "      <td>2</td>\n",
       "      <td>Bob Johnson</td>\n",
       "      <td>Male</td>\n",
       "      <td>15</td>\n",
       "      <td>9th Grade</td>\n",
       "      <td>Science</td>\n",
       "      <td>78.0</td>\n",
       "      <td>88.5</td>\n",
       "      <td>10.0</td>\n",
       "      <td>Medium</td>\n",
       "      <td>4.0</td>\n",
       "      <td>2023</td>\n",
       "    </tr>\n",
       "    <tr>\n",
       "      <th>2</th>\n",
       "      <td>3</td>\n",
       "      <td>Charlie Brown</td>\n",
       "      <td>Male</td>\n",
       "      <td>13</td>\n",
       "      <td>7th Grade</td>\n",
       "      <td>English</td>\n",
       "      <td>92.0</td>\n",
       "      <td>98.0</td>\n",
       "      <td>15.0</td>\n",
       "      <td>High</td>\n",
       "      <td>4.8</td>\n",
       "      <td>2023</td>\n",
       "    </tr>\n",
       "    <tr>\n",
       "      <th>3</th>\n",
       "      <td>4</td>\n",
       "      <td>Diana Prince</td>\n",
       "      <td>Female</td>\n",
       "      <td>14</td>\n",
       "      <td>8th Grade</td>\n",
       "      <td>History</td>\n",
       "      <td>88.0</td>\n",
       "      <td>90.5</td>\n",
       "      <td>13.0</td>\n",
       "      <td>High</td>\n",
       "      <td>4.6</td>\n",
       "      <td>2023</td>\n",
       "    </tr>\n",
       "    <tr>\n",
       "      <th>4</th>\n",
       "      <td>5</td>\n",
       "      <td>Ethan Hunt</td>\n",
       "      <td>Male</td>\n",
       "      <td>15</td>\n",
       "      <td>9th Grade</td>\n",
       "      <td>Mathematics</td>\n",
       "      <td>75.5</td>\n",
       "      <td>80.0</td>\n",
       "      <td>8.5</td>\n",
       "      <td>Low</td>\n",
       "      <td>3.8</td>\n",
       "      <td>2023</td>\n",
       "    </tr>\n",
       "    <tr>\n",
       "      <th>5</th>\n",
       "      <td>6</td>\n",
       "      <td>Fiona Gallagher</td>\n",
       "      <td>Female</td>\n",
       "      <td>13</td>\n",
       "      <td>7th Grade</td>\n",
       "      <td>Science</td>\n",
       "      <td>95.0</td>\n",
       "      <td>99.0</td>\n",
       "      <td>14.5</td>\n",
       "      <td>High</td>\n",
       "      <td>4.9</td>\n",
       "      <td>2023</td>\n",
       "    </tr>\n",
       "    <tr>\n",
       "      <th>6</th>\n",
       "      <td>7</td>\n",
       "      <td>George Weasley</td>\n",
       "      <td>Male</td>\n",
       "      <td>14</td>\n",
       "      <td>8th Grade</td>\n",
       "      <td>English</td>\n",
       "      <td>65.0</td>\n",
       "      <td>70.0</td>\n",
       "      <td>6.0</td>\n",
       "      <td>Low</td>\n",
       "      <td>3.5</td>\n",
       "      <td>2023</td>\n",
       "    </tr>\n",
       "    <tr>\n",
       "      <th>7</th>\n",
       "      <td>8</td>\n",
       "      <td>Hannah Montana</td>\n",
       "      <td>Female</td>\n",
       "      <td>15</td>\n",
       "      <td>9th Grade</td>\n",
       "      <td>History</td>\n",
       "      <td>85.0</td>\n",
       "      <td>88.0</td>\n",
       "      <td>11.0</td>\n",
       "      <td>Medium</td>\n",
       "      <td>4.2</td>\n",
       "      <td>2023</td>\n",
       "    </tr>\n",
       "    <tr>\n",
       "      <th>8</th>\n",
       "      <td>9</td>\n",
       "      <td>Ivy Carter</td>\n",
       "      <td>Female</td>\n",
       "      <td>14</td>\n",
       "      <td>8th Grade</td>\n",
       "      <td>Mathematics</td>\n",
       "      <td>78.5</td>\n",
       "      <td>85.0</td>\n",
       "      <td>10.0</td>\n",
       "      <td>Medium</td>\n",
       "      <td>4.1</td>\n",
       "      <td>2023</td>\n",
       "    </tr>\n",
       "    <tr>\n",
       "      <th>9</th>\n",
       "      <td>10</td>\n",
       "      <td>Jack Sparrow</td>\n",
       "      <td>Male</td>\n",
       "      <td>13</td>\n",
       "      <td>7th Grade</td>\n",
       "      <td>Science</td>\n",
       "      <td>70.0</td>\n",
       "      <td>75.0</td>\n",
       "      <td>7.5</td>\n",
       "      <td>Low</td>\n",
       "      <td>3.7</td>\n",
       "      <td>2023</td>\n",
       "    </tr>\n",
       "    <tr>\n",
       "      <th>10</th>\n",
       "      <td>11</td>\n",
       "      <td>Katy Perry</td>\n",
       "      <td>Female</td>\n",
       "      <td>14</td>\n",
       "      <td>8th Grade</td>\n",
       "      <td>English</td>\n",
       "      <td>90.0</td>\n",
       "      <td>93.0</td>\n",
       "      <td>14.0</td>\n",
       "      <td>High</td>\n",
       "      <td>4.7</td>\n",
       "      <td>2023</td>\n",
       "    </tr>\n",
       "    <tr>\n",
       "      <th>11</th>\n",
       "      <td>12</td>\n",
       "      <td>Luke Skywalker</td>\n",
       "      <td>Male</td>\n",
       "      <td>15</td>\n",
       "      <td>9th Grade</td>\n",
       "      <td>History</td>\n",
       "      <td>82.0</td>\n",
       "      <td>86.5</td>\n",
       "      <td>12.0</td>\n",
       "      <td>Medium</td>\n",
       "      <td>4.3</td>\n",
       "      <td>2023</td>\n",
       "    </tr>\n",
       "    <tr>\n",
       "      <th>12</th>\n",
       "      <td>13</td>\n",
       "      <td>Monica Geller</td>\n",
       "      <td>Female</td>\n",
       "      <td>13</td>\n",
       "      <td>7th Grade</td>\n",
       "      <td>Mathematics</td>\n",
       "      <td>95.5</td>\n",
       "      <td>97.0</td>\n",
       "      <td>15.0</td>\n",
       "      <td>High</td>\n",
       "      <td>4.9</td>\n",
       "      <td>2023</td>\n",
       "    </tr>\n",
       "    <tr>\n",
       "      <th>13</th>\n",
       "      <td>14</td>\n",
       "      <td>Nathan Drake</td>\n",
       "      <td>Male</td>\n",
       "      <td>14</td>\n",
       "      <td>8th Grade</td>\n",
       "      <td>Science</td>\n",
       "      <td>73.0</td>\n",
       "      <td>78.5</td>\n",
       "      <td>9.0</td>\n",
       "      <td>Low</td>\n",
       "      <td>3.9</td>\n",
       "      <td>2023</td>\n",
       "    </tr>\n",
       "    <tr>\n",
       "      <th>14</th>\n",
       "      <td>15</td>\n",
       "      <td>Olivia Benson</td>\n",
       "      <td>Female</td>\n",
       "      <td>15</td>\n",
       "      <td>9th Grade</td>\n",
       "      <td>English</td>\n",
       "      <td>88.5</td>\n",
       "      <td>91.0</td>\n",
       "      <td>13.0</td>\n",
       "      <td>High</td>\n",
       "      <td>4.6</td>\n",
       "      <td>2023</td>\n",
       "    </tr>\n",
       "    <tr>\n",
       "      <th>15</th>\n",
       "      <td>16</td>\n",
       "      <td>Peter Parker</td>\n",
       "      <td>Male</td>\n",
       "      <td>14</td>\n",
       "      <td>8th Grade</td>\n",
       "      <td>Mathematics</td>\n",
       "      <td>80.0</td>\n",
       "      <td>85.5</td>\n",
       "      <td>10.5</td>\n",
       "      <td>Medium</td>\n",
       "      <td>4.2</td>\n",
       "      <td>2023</td>\n",
       "    </tr>\n",
       "    <tr>\n",
       "      <th>16</th>\n",
       "      <td>17</td>\n",
       "      <td>Quinn Fabray</td>\n",
       "      <td>Female</td>\n",
       "      <td>13</td>\n",
       "      <td>7th Grade</td>\n",
       "      <td>History</td>\n",
       "      <td>87.0</td>\n",
       "      <td>90.0</td>\n",
       "      <td>11.0</td>\n",
       "      <td>High</td>\n",
       "      <td>4.4</td>\n",
       "      <td>2023</td>\n",
       "    </tr>\n",
       "    <tr>\n",
       "      <th>17</th>\n",
       "      <td>18</td>\n",
       "      <td>Rachel Green</td>\n",
       "      <td>Female</td>\n",
       "      <td>15</td>\n",
       "      <td>9th Grade</td>\n",
       "      <td>Science</td>\n",
       "      <td>92.5</td>\n",
       "      <td>96.0</td>\n",
       "      <td>14.0</td>\n",
       "      <td>High</td>\n",
       "      <td>4.9</td>\n",
       "      <td>2023</td>\n",
       "    </tr>\n",
       "    <tr>\n",
       "      <th>18</th>\n",
       "      <td>19</td>\n",
       "      <td>Sam Winchester</td>\n",
       "      <td>Male</td>\n",
       "      <td>14</td>\n",
       "      <td>8th Grade</td>\n",
       "      <td>English</td>\n",
       "      <td>72.0</td>\n",
       "      <td>76.5</td>\n",
       "      <td>8.0</td>\n",
       "      <td>Low</td>\n",
       "      <td>3.8</td>\n",
       "      <td>2023</td>\n",
       "    </tr>\n",
       "    <tr>\n",
       "      <th>19</th>\n",
       "      <td>20</td>\n",
       "      <td>Tina Belcher</td>\n",
       "      <td>Female</td>\n",
       "      <td>13</td>\n",
       "      <td>7th Grade</td>\n",
       "      <td>Mathematics</td>\n",
       "      <td>88.5</td>\n",
       "      <td>93.5</td>\n",
       "      <td>13.5</td>\n",
       "      <td>High</td>\n",
       "      <td>4.6</td>\n",
       "      <td>2023</td>\n",
       "    </tr>\n",
       "    <tr>\n",
       "      <th>20</th>\n",
       "      <td>21</td>\n",
       "      <td>Uma Thurman</td>\n",
       "      <td>Female</td>\n",
       "      <td>14</td>\n",
       "      <td>8th Grade</td>\n",
       "      <td>Science</td>\n",
       "      <td>83.0</td>\n",
       "      <td>88.0</td>\n",
       "      <td>12.5</td>\n",
       "      <td>Medium</td>\n",
       "      <td>4.3</td>\n",
       "      <td>2023</td>\n",
       "    </tr>\n",
       "    <tr>\n",
       "      <th>21</th>\n",
       "      <td>22</td>\n",
       "      <td>Victor Stone</td>\n",
       "      <td>Male</td>\n",
       "      <td>15</td>\n",
       "      <td>9th Grade</td>\n",
       "      <td>History</td>\n",
       "      <td>70.5</td>\n",
       "      <td>75.5</td>\n",
       "      <td>7.0</td>\n",
       "      <td>Low</td>\n",
       "      <td>3.6</td>\n",
       "      <td>2023</td>\n",
       "    </tr>\n",
       "    <tr>\n",
       "      <th>22</th>\n",
       "      <td>23</td>\n",
       "      <td>Wanda Maximoff</td>\n",
       "      <td>Female</td>\n",
       "      <td>13</td>\n",
       "      <td>7th Grade</td>\n",
       "      <td>English</td>\n",
       "      <td>90.0</td>\n",
       "      <td>94.5</td>\n",
       "      <td>14.0</td>\n",
       "      <td>High</td>\n",
       "      <td>4.7</td>\n",
       "      <td>2023</td>\n",
       "    </tr>\n",
       "    <tr>\n",
       "      <th>23</th>\n",
       "      <td>24</td>\n",
       "      <td>Xander Cage</td>\n",
       "      <td>Male</td>\n",
       "      <td>14</td>\n",
       "      <td>8th Grade</td>\n",
       "      <td>Mathematics</td>\n",
       "      <td>76.5</td>\n",
       "      <td>81.5</td>\n",
       "      <td>8.5</td>\n",
       "      <td>Medium</td>\n",
       "      <td>4.0</td>\n",
       "      <td>2023</td>\n",
       "    </tr>\n",
       "    <tr>\n",
       "      <th>24</th>\n",
       "      <td>25</td>\n",
       "      <td>Yara Greyjoy</td>\n",
       "      <td>Female</td>\n",
       "      <td>15</td>\n",
       "      <td>9th Grade</td>\n",
       "      <td>Science</td>\n",
       "      <td>85.0</td>\n",
       "      <td>88.5</td>\n",
       "      <td>10.5</td>\n",
       "      <td>Medium</td>\n",
       "      <td>4.2</td>\n",
       "      <td>2023</td>\n",
       "    </tr>\n",
       "    <tr>\n",
       "      <th>25</th>\n",
       "      <td>26</td>\n",
       "      <td>Zane Malik</td>\n",
       "      <td>Male</td>\n",
       "      <td>13</td>\n",
       "      <td>7th Grade</td>\n",
       "      <td>History</td>\n",
       "      <td>88.5</td>\n",
       "      <td>91.5</td>\n",
       "      <td>11.5</td>\n",
       "      <td>High</td>\n",
       "      <td>4.5</td>\n",
       "      <td>2023</td>\n",
       "    </tr>\n",
       "    <tr>\n",
       "      <th>26</th>\n",
       "      <td>27</td>\n",
       "      <td>Andrea Marino</td>\n",
       "      <td>Female</td>\n",
       "      <td>14</td>\n",
       "      <td>8th Grade</td>\n",
       "      <td>Science</td>\n",
       "      <td>74.0</td>\n",
       "      <td>78.0</td>\n",
       "      <td>9.5</td>\n",
       "      <td>Low</td>\n",
       "      <td>3.9</td>\n",
       "      <td>2023</td>\n",
       "    </tr>\n",
       "    <tr>\n",
       "      <th>27</th>\n",
       "      <td>28</td>\n",
       "      <td>Bruce Wayne</td>\n",
       "      <td>Male</td>\n",
       "      <td>15</td>\n",
       "      <td>9th Grade</td>\n",
       "      <td>English</td>\n",
       "      <td>93.0</td>\n",
       "      <td>97.0</td>\n",
       "      <td>15.0</td>\n",
       "      <td>High</td>\n",
       "      <td>4.9</td>\n",
       "      <td>2023</td>\n",
       "    </tr>\n",
       "    <tr>\n",
       "      <th>28</th>\n",
       "      <td>29</td>\n",
       "      <td>Clara Oswald</td>\n",
       "      <td>Female</td>\n",
       "      <td>13</td>\n",
       "      <td>7th Grade</td>\n",
       "      <td>Mathematics</td>\n",
       "      <td>81.0</td>\n",
       "      <td>86.0</td>\n",
       "      <td>10.0</td>\n",
       "      <td>Medium</td>\n",
       "      <td>4.3</td>\n",
       "      <td>2023</td>\n",
       "    </tr>\n",
       "    <tr>\n",
       "      <th>29</th>\n",
       "      <td>30</td>\n",
       "      <td>Dean Winchester</td>\n",
       "      <td>Male</td>\n",
       "      <td>14</td>\n",
       "      <td>8th Grade</td>\n",
       "      <td>History</td>\n",
       "      <td>75.5</td>\n",
       "      <td>80.0</td>\n",
       "      <td>9.0</td>\n",
       "      <td>Medium</td>\n",
       "      <td>4.1</td>\n",
       "      <td>2023</td>\n",
       "    </tr>\n",
       "    <tr>\n",
       "      <th>30</th>\n",
       "      <td>31</td>\n",
       "      <td>Elena Gilbert</td>\n",
       "      <td>Female</td>\n",
       "      <td>15</td>\n",
       "      <td>9th Grade</td>\n",
       "      <td>Science</td>\n",
       "      <td>88.0</td>\n",
       "      <td>92.0</td>\n",
       "      <td>12.5</td>\n",
       "      <td>High</td>\n",
       "      <td>4.5</td>\n",
       "      <td>2023</td>\n",
       "    </tr>\n",
       "    <tr>\n",
       "      <th>31</th>\n",
       "      <td>32</td>\n",
       "      <td>Finn Wolfhard</td>\n",
       "      <td>Male</td>\n",
       "      <td>13</td>\n",
       "      <td>7th Grade</td>\n",
       "      <td>English</td>\n",
       "      <td>71.0</td>\n",
       "      <td>76.0</td>\n",
       "      <td>7.0</td>\n",
       "      <td>Low</td>\n",
       "      <td>3.7</td>\n",
       "      <td>2023</td>\n",
       "    </tr>\n",
       "    <tr>\n",
       "      <th>32</th>\n",
       "      <td>33</td>\n",
       "      <td>Gabriel Agreste</td>\n",
       "      <td>Male</td>\n",
       "      <td>14</td>\n",
       "      <td>8th Grade</td>\n",
       "      <td>Mathematics</td>\n",
       "      <td>84.0</td>\n",
       "      <td>89.0</td>\n",
       "      <td>11.0</td>\n",
       "      <td>Medium</td>\n",
       "      <td>4.4</td>\n",
       "      <td>2023</td>\n",
       "    </tr>\n",
       "    <tr>\n",
       "      <th>33</th>\n",
       "      <td>34</td>\n",
       "      <td>Harley Quinn</td>\n",
       "      <td>Female</td>\n",
       "      <td>15</td>\n",
       "      <td>9th Grade</td>\n",
       "      <td>History</td>\n",
       "      <td>80.0</td>\n",
       "      <td>84.0</td>\n",
       "      <td>11.0</td>\n",
       "      <td>Medium</td>\n",
       "      <td>4.0</td>\n",
       "      <td>2023</td>\n",
       "    </tr>\n",
       "    <tr>\n",
       "      <th>34</th>\n",
       "      <td>35</td>\n",
       "      <td>Isabella Swan</td>\n",
       "      <td>Female</td>\n",
       "      <td>13</td>\n",
       "      <td>7th Grade</td>\n",
       "      <td>Science</td>\n",
       "      <td>92.0</td>\n",
       "      <td>95.5</td>\n",
       "      <td>14.5</td>\n",
       "      <td>High</td>\n",
       "      <td>4.8</td>\n",
       "      <td>2023</td>\n",
       "    </tr>\n",
       "    <tr>\n",
       "      <th>35</th>\n",
       "      <td>36</td>\n",
       "      <td>Jon Snow</td>\n",
       "      <td>Male</td>\n",
       "      <td>14</td>\n",
       "      <td>8th Grade</td>\n",
       "      <td>English</td>\n",
       "      <td>74.0</td>\n",
       "      <td>79.0</td>\n",
       "      <td>9.5</td>\n",
       "      <td>Medium</td>\n",
       "      <td>4.0</td>\n",
       "      <td>2023</td>\n",
       "    </tr>\n",
       "    <tr>\n",
       "      <th>36</th>\n",
       "      <td>37</td>\n",
       "      <td>Katniss Everdeen</td>\n",
       "      <td>Female</td>\n",
       "      <td>15</td>\n",
       "      <td>9th Grade</td>\n",
       "      <td>Mathematics</td>\n",
       "      <td>79.0</td>\n",
       "      <td>84.5</td>\n",
       "      <td>9.5</td>\n",
       "      <td>Medium</td>\n",
       "      <td>4.1</td>\n",
       "      <td>2023</td>\n",
       "    </tr>\n",
       "    <tr>\n",
       "      <th>37</th>\n",
       "      <td>38</td>\n",
       "      <td>Logan Howlett</td>\n",
       "      <td>Male</td>\n",
       "      <td>13</td>\n",
       "      <td>7th Grade</td>\n",
       "      <td>History</td>\n",
       "      <td>86.5</td>\n",
       "      <td>90.0</td>\n",
       "      <td>10.5</td>\n",
       "      <td>High</td>\n",
       "      <td>4.3</td>\n",
       "      <td>2023</td>\n",
       "    </tr>\n",
       "    <tr>\n",
       "      <th>38</th>\n",
       "      <td>39</td>\n",
       "      <td>Misty Day</td>\n",
       "      <td>Female</td>\n",
       "      <td>14</td>\n",
       "      <td>8th Grade</td>\n",
       "      <td>Science</td>\n",
       "      <td>89.0</td>\n",
       "      <td>93.0</td>\n",
       "      <td>12.5</td>\n",
       "      <td>High</td>\n",
       "      <td>4.5</td>\n",
       "      <td>2023</td>\n",
       "    </tr>\n",
       "    <tr>\n",
       "      <th>39</th>\n",
       "      <td>40</td>\n",
       "      <td>Neville Longbottom</td>\n",
       "      <td>Male</td>\n",
       "      <td>15</td>\n",
       "      <td>9th Grade</td>\n",
       "      <td>English</td>\n",
       "      <td>68.5</td>\n",
       "      <td>74.0</td>\n",
       "      <td>7.0</td>\n",
       "      <td>Low</td>\n",
       "      <td>3.6</td>\n",
       "      <td>2023</td>\n",
       "    </tr>\n",
       "    <tr>\n",
       "      <th>40</th>\n",
       "      <td>41</td>\n",
       "      <td>Ophelia Martell</td>\n",
       "      <td>Female</td>\n",
       "      <td>13</td>\n",
       "      <td>7th Grade</td>\n",
       "      <td>Mathematics</td>\n",
       "      <td>91.0</td>\n",
       "      <td>94.5</td>\n",
       "      <td>13.0</td>\n",
       "      <td>High</td>\n",
       "      <td>4.7</td>\n",
       "      <td>2023</td>\n",
       "    </tr>\n",
       "    <tr>\n",
       "      <th>41</th>\n",
       "      <td>42</td>\n",
       "      <td>Percy Jackson</td>\n",
       "      <td>Male</td>\n",
       "      <td>14</td>\n",
       "      <td>8th Grade</td>\n",
       "      <td>Science</td>\n",
       "      <td>77.5</td>\n",
       "      <td>82.0</td>\n",
       "      <td>9.5</td>\n",
       "      <td>Medium</td>\n",
       "      <td>4.1</td>\n",
       "      <td>2023</td>\n",
       "    </tr>\n",
       "    <tr>\n",
       "      <th>42</th>\n",
       "      <td>43</td>\n",
       "      <td>Quentin Beck</td>\n",
       "      <td>Male</td>\n",
       "      <td>15</td>\n",
       "      <td>9th Grade</td>\n",
       "      <td>History</td>\n",
       "      <td>72.5</td>\n",
       "      <td>77.0</td>\n",
       "      <td>8.0</td>\n",
       "      <td>Low</td>\n",
       "      <td>3.8</td>\n",
       "      <td>2023</td>\n",
       "    </tr>\n",
       "    <tr>\n",
       "      <th>43</th>\n",
       "      <td>44</td>\n",
       "      <td>Rory Gilmore</td>\n",
       "      <td>Female</td>\n",
       "      <td>14</td>\n",
       "      <td>8th Grade</td>\n",
       "      <td>English</td>\n",
       "      <td>95.5</td>\n",
       "      <td>98.0</td>\n",
       "      <td>14.0</td>\n",
       "      <td>High</td>\n",
       "      <td>4.9</td>\n",
       "      <td>2023</td>\n",
       "    </tr>\n",
       "    <tr>\n",
       "      <th>44</th>\n",
       "      <td>45</td>\n",
       "      <td>Sansa Stark</td>\n",
       "      <td>Female</td>\n",
       "      <td>13</td>\n",
       "      <td>7th Grade</td>\n",
       "      <td>Mathematics</td>\n",
       "      <td>87.5</td>\n",
       "      <td>92.0</td>\n",
       "      <td>12.0</td>\n",
       "      <td>High</td>\n",
       "      <td>4.5</td>\n",
       "      <td>2023</td>\n",
       "    </tr>\n",
       "    <tr>\n",
       "      <th>45</th>\n",
       "      <td>46</td>\n",
       "      <td>Tony Stark</td>\n",
       "      <td>Male</td>\n",
       "      <td>15</td>\n",
       "      <td>9th Grade</td>\n",
       "      <td>Science</td>\n",
       "      <td>90.0</td>\n",
       "      <td>94.0</td>\n",
       "      <td>13.0</td>\n",
       "      <td>High</td>\n",
       "      <td>4.7</td>\n",
       "      <td>2023</td>\n",
       "    </tr>\n",
       "    <tr>\n",
       "      <th>46</th>\n",
       "      <td>47</td>\n",
       "      <td>Ursula Winters</td>\n",
       "      <td>Female</td>\n",
       "      <td>14</td>\n",
       "      <td>8th Grade</td>\n",
       "      <td>History</td>\n",
       "      <td>82.0</td>\n",
       "      <td>87.0</td>\n",
       "      <td>10.5</td>\n",
       "      <td>Medium</td>\n",
       "      <td>4.2</td>\n",
       "      <td>2023</td>\n",
       "    </tr>\n",
       "    <tr>\n",
       "      <th>47</th>\n",
       "      <td>48</td>\n",
       "      <td>Violet Baudelaire</td>\n",
       "      <td>Female</td>\n",
       "      <td>13</td>\n",
       "      <td>7th Grade</td>\n",
       "      <td>English</td>\n",
       "      <td>89.5</td>\n",
       "      <td>93.0</td>\n",
       "      <td>12.5</td>\n",
       "      <td>High</td>\n",
       "      <td>4.6</td>\n",
       "      <td>2023</td>\n",
       "    </tr>\n",
       "    <tr>\n",
       "      <th>48</th>\n",
       "      <td>49</td>\n",
       "      <td>Walter White</td>\n",
       "      <td>Male</td>\n",
       "      <td>15</td>\n",
       "      <td>9th Grade</td>\n",
       "      <td>Mathematics</td>\n",
       "      <td>76.0</td>\n",
       "      <td>81.0</td>\n",
       "      <td>9.0</td>\n",
       "      <td>Medium</td>\n",
       "      <td>4.0</td>\n",
       "      <td>2023</td>\n",
       "    </tr>\n",
       "    <tr>\n",
       "      <th>49</th>\n",
       "      <td>50</td>\n",
       "      <td>Xenia Onatopp</td>\n",
       "      <td>Female</td>\n",
       "      <td>14</td>\n",
       "      <td>8th Grade</td>\n",
       "      <td>Science</td>\n",
       "      <td>73.5</td>\n",
       "      <td>78.0</td>\n",
       "      <td>8.5</td>\n",
       "      <td>Low</td>\n",
       "      <td>3.9</td>\n",
       "      <td>2023</td>\n",
       "    </tr>\n",
       "  </tbody>\n",
       "</table>\n",
       "</div>"
      ],
      "text/plain": [
       "    Student_ID        Student_Name  Gender  Age Grade_Level      Subject  \\\n",
       "0            1         Alice Smith  Female   14   8th Grade  Mathematics   \n",
       "1            2         Bob Johnson    Male   15   9th Grade      Science   \n",
       "2            3       Charlie Brown    Male   13   7th Grade      English   \n",
       "3            4        Diana Prince  Female   14   8th Grade      History   \n",
       "4            5          Ethan Hunt    Male   15   9th Grade  Mathematics   \n",
       "5            6     Fiona Gallagher  Female   13   7th Grade      Science   \n",
       "6            7      George Weasley    Male   14   8th Grade      English   \n",
       "7            8      Hannah Montana  Female   15   9th Grade      History   \n",
       "8            9          Ivy Carter  Female   14   8th Grade  Mathematics   \n",
       "9           10        Jack Sparrow    Male   13   7th Grade      Science   \n",
       "10          11          Katy Perry  Female   14   8th Grade      English   \n",
       "11          12      Luke Skywalker    Male   15   9th Grade      History   \n",
       "12          13       Monica Geller  Female   13   7th Grade  Mathematics   \n",
       "13          14        Nathan Drake    Male   14   8th Grade      Science   \n",
       "14          15       Olivia Benson  Female   15   9th Grade      English   \n",
       "15          16        Peter Parker    Male   14   8th Grade  Mathematics   \n",
       "16          17        Quinn Fabray  Female   13   7th Grade      History   \n",
       "17          18        Rachel Green  Female   15   9th Grade      Science   \n",
       "18          19      Sam Winchester    Male   14   8th Grade      English   \n",
       "19          20        Tina Belcher  Female   13   7th Grade  Mathematics   \n",
       "20          21         Uma Thurman  Female   14   8th Grade      Science   \n",
       "21          22        Victor Stone    Male   15   9th Grade      History   \n",
       "22          23      Wanda Maximoff  Female   13   7th Grade      English   \n",
       "23          24         Xander Cage    Male   14   8th Grade  Mathematics   \n",
       "24          25        Yara Greyjoy  Female   15   9th Grade      Science   \n",
       "25          26          Zane Malik    Male   13   7th Grade      History   \n",
       "26          27       Andrea Marino  Female   14   8th Grade      Science   \n",
       "27          28         Bruce Wayne    Male   15   9th Grade      English   \n",
       "28          29        Clara Oswald  Female   13   7th Grade  Mathematics   \n",
       "29          30     Dean Winchester    Male   14   8th Grade      History   \n",
       "30          31       Elena Gilbert  Female   15   9th Grade      Science   \n",
       "31          32       Finn Wolfhard    Male   13   7th Grade      English   \n",
       "32          33     Gabriel Agreste    Male   14   8th Grade  Mathematics   \n",
       "33          34        Harley Quinn  Female   15   9th Grade      History   \n",
       "34          35       Isabella Swan  Female   13   7th Grade      Science   \n",
       "35          36            Jon Snow    Male   14   8th Grade      English   \n",
       "36          37    Katniss Everdeen  Female   15   9th Grade  Mathematics   \n",
       "37          38       Logan Howlett    Male   13   7th Grade      History   \n",
       "38          39           Misty Day  Female   14   8th Grade      Science   \n",
       "39          40  Neville Longbottom    Male   15   9th Grade      English   \n",
       "40          41     Ophelia Martell  Female   13   7th Grade  Mathematics   \n",
       "41          42       Percy Jackson    Male   14   8th Grade      Science   \n",
       "42          43        Quentin Beck    Male   15   9th Grade      History   \n",
       "43          44        Rory Gilmore  Female   14   8th Grade      English   \n",
       "44          45         Sansa Stark  Female   13   7th Grade  Mathematics   \n",
       "45          46          Tony Stark    Male   15   9th Grade      Science   \n",
       "46          47      Ursula Winters  Female   14   8th Grade      History   \n",
       "47          48   Violet Baudelaire  Female   13   7th Grade      English   \n",
       "48          49        Walter White    Male   15   9th Grade  Mathematics   \n",
       "49          50       Xenia Onatopp  Female   14   8th Grade      Science   \n",
       "\n",
       "    Test_Score  Attendance_Rate  Study_Hours_Per_Week Participation_Level  \\\n",
       "0         85.5             95.0                  12.5                High   \n",
       "1         78.0             88.5                  10.0              Medium   \n",
       "2         92.0             98.0                  15.0                High   \n",
       "3         88.0             90.5                  13.0                High   \n",
       "4         75.5             80.0                   8.5                 Low   \n",
       "5         95.0             99.0                  14.5                High   \n",
       "6         65.0             70.0                   6.0                 Low   \n",
       "7         85.0             88.0                  11.0              Medium   \n",
       "8         78.5             85.0                  10.0              Medium   \n",
       "9         70.0             75.0                   7.5                 Low   \n",
       "10        90.0             93.0                  14.0                High   \n",
       "11        82.0             86.5                  12.0              Medium   \n",
       "12        95.5             97.0                  15.0                High   \n",
       "13        73.0             78.5                   9.0                 Low   \n",
       "14        88.5             91.0                  13.0                High   \n",
       "15        80.0             85.5                  10.5              Medium   \n",
       "16        87.0             90.0                  11.0                High   \n",
       "17        92.5             96.0                  14.0                High   \n",
       "18        72.0             76.5                   8.0                 Low   \n",
       "19        88.5             93.5                  13.5                High   \n",
       "20        83.0             88.0                  12.5              Medium   \n",
       "21        70.5             75.5                   7.0                 Low   \n",
       "22        90.0             94.5                  14.0                High   \n",
       "23        76.5             81.5                   8.5              Medium   \n",
       "24        85.0             88.5                  10.5              Medium   \n",
       "25        88.5             91.5                  11.5                High   \n",
       "26        74.0             78.0                   9.5                 Low   \n",
       "27        93.0             97.0                  15.0                High   \n",
       "28        81.0             86.0                  10.0              Medium   \n",
       "29        75.5             80.0                   9.0              Medium   \n",
       "30        88.0             92.0                  12.5                High   \n",
       "31        71.0             76.0                   7.0                 Low   \n",
       "32        84.0             89.0                  11.0              Medium   \n",
       "33        80.0             84.0                  11.0              Medium   \n",
       "34        92.0             95.5                  14.5                High   \n",
       "35        74.0             79.0                   9.5              Medium   \n",
       "36        79.0             84.5                   9.5              Medium   \n",
       "37        86.5             90.0                  10.5                High   \n",
       "38        89.0             93.0                  12.5                High   \n",
       "39        68.5             74.0                   7.0                 Low   \n",
       "40        91.0             94.5                  13.0                High   \n",
       "41        77.5             82.0                   9.5              Medium   \n",
       "42        72.5             77.0                   8.0                 Low   \n",
       "43        95.5             98.0                  14.0                High   \n",
       "44        87.5             92.0                  12.0                High   \n",
       "45        90.0             94.0                  13.0                High   \n",
       "46        82.0             87.0                  10.5              Medium   \n",
       "47        89.5             93.0                  12.5                High   \n",
       "48        76.0             81.0                   9.0              Medium   \n",
       "49        73.5             78.0                   8.5                 Low   \n",
       "\n",
       "    Teacher_Rating  Year  \n",
       "0              4.5  2023  \n",
       "1              4.0  2023  \n",
       "2              4.8  2023  \n",
       "3              4.6  2023  \n",
       "4              3.8  2023  \n",
       "5              4.9  2023  \n",
       "6              3.5  2023  \n",
       "7              4.2  2023  \n",
       "8              4.1  2023  \n",
       "9              3.7  2023  \n",
       "10             4.7  2023  \n",
       "11             4.3  2023  \n",
       "12             4.9  2023  \n",
       "13             3.9  2023  \n",
       "14             4.6  2023  \n",
       "15             4.2  2023  \n",
       "16             4.4  2023  \n",
       "17             4.9  2023  \n",
       "18             3.8  2023  \n",
       "19             4.6  2023  \n",
       "20             4.3  2023  \n",
       "21             3.6  2023  \n",
       "22             4.7  2023  \n",
       "23             4.0  2023  \n",
       "24             4.2  2023  \n",
       "25             4.5  2023  \n",
       "26             3.9  2023  \n",
       "27             4.9  2023  \n",
       "28             4.3  2023  \n",
       "29             4.1  2023  \n",
       "30             4.5  2023  \n",
       "31             3.7  2023  \n",
       "32             4.4  2023  \n",
       "33             4.0  2023  \n",
       "34             4.8  2023  \n",
       "35             4.0  2023  \n",
       "36             4.1  2023  \n",
       "37             4.3  2023  \n",
       "38             4.5  2023  \n",
       "39             3.6  2023  \n",
       "40             4.7  2023  \n",
       "41             4.1  2023  \n",
       "42             3.8  2023  \n",
       "43             4.9  2023  \n",
       "44             4.5  2023  \n",
       "45             4.7  2023  \n",
       "46             4.2  2023  \n",
       "47             4.6  2023  \n",
       "48             4.0  2023  \n",
       "49             3.9  2023  "
      ]
     },
     "execution_count": 4,
     "metadata": {},
     "output_type": "execute_result"
    }
   ],
   "source": [
    "# Load the data into a pandas DataFrame\n",
    "df = pd.read_sql(query, db_connection)\n",
    "df\n"
   ]
  },
  {
   "cell_type": "markdown",
   "metadata": {},
   "source": [
    "**Insight**\n",
    "\n",
    "Loading the file from local system to jupyter notebook"
   ]
  },
  {
   "cell_type": "markdown",
   "metadata": {},
   "source": [
    "# UNDERSTANDING VARIABLE\n",
    "\n",
    "i) Student_ID : Acts as the Primary Key to uniquely identify records.\n",
    "\n",
    "ii) Student_Name : Provides student identification.\n",
    "\n",
    "iii) Gender : The gender of the student (e.g., \"Male\", \"Female\", \"Other\")Allows analysis based on gender demographics.\n",
    "\n",
    "iv) Age : The age of the student. Useful for analyzing age-related trends in performance.\n",
    "\n",
    "v ) Grade_Level : The grade or class level of the student (e.g., \"Grade 10\", \"Grade 12\").Helps analyze performance across different grade levels.\n",
    "\n",
    "vi ) Subject : The subject in which the test score is recorded (e.g., \"Math\", \"Science\", \"English\"). Enables subject-wise performance analysis.\n",
    "\n",
    "vii) Test_Score : The score achieved by the student in a test, ranging from 0.00 to 100.00. Central variable for performance measurement.\n",
    "\n",
    "viii) Attendance_Rate : The attendance percentage of the student (e.g., 95.50 for 95.5%).Helps analyze the relationship between attendance and academic performance.\n",
    "\n",
    "ix) Study_Hours_Per_Week : Average number of hours the student studies per week. An important factor to correlate study habits with test performance.\n",
    "\n",
    "x) Participation_Level :  The level of class participation (e.g., \"High\", \"Medium\", \"Low\"). Used to evaluate the impact of participation on academic success.\n",
    "xi)Teacher_Rating : The teacher's rating for the student (e.g., 4.50 on a scale of 5).Helps understand teacher perception and its correlation with performance.\n",
    "\n",
    "xii) Year : The academic year for which the data is recorded (e.g., 2024).\n",
    "Purpose: Enables time-based performance tracking."
   ]
  },
  {
   "cell_type": "markdown",
   "metadata": {},
   "source": [
    "**shape of the Dataset**\n"
   ]
  },
  {
   "cell_type": "code",
   "execution_count": 5,
   "metadata": {},
   "outputs": [
    {
     "data": {
      "text/plain": [
       "(50, 12)"
      ]
     },
     "execution_count": 5,
     "metadata": {},
     "output_type": "execute_result"
    }
   ],
   "source": [
    "# Prints the shape i.e. the row size by column size of the dataset\n",
    "df.shape"
   ]
  },
  {
   "cell_type": "markdown",
   "metadata": {},
   "source": [
    "**Insight**\n",
    "\n",
    "Here we print row and column size of the dataset"
   ]
  },
  {
   "cell_type": "markdown",
   "metadata": {},
   "source": [
    "**Dataset View**"
   ]
  },
  {
   "cell_type": "code",
   "execution_count": 8,
   "metadata": {},
   "outputs": [
    {
     "name": "stderr",
     "output_type": "stream",
     "text": [
      "C:\\Users\\lenovo\\AppData\\Local\\Temp\\ipykernel_15700\\1369432554.py:1: UserWarning: pandas only supports SQLAlchemy connectable (engine/connection) or database string URI or sqlite3 DBAPI2 connection. Other DBAPI2 objects are not tested. Please consider using SQLAlchemy.\n",
      "  df = pd.read_sql(query, db_connection)\n"
     ]
    },
    {
     "data": {
      "text/html": [
       "<div>\n",
       "<style scoped>\n",
       "    .dataframe tbody tr th:only-of-type {\n",
       "        vertical-align: middle;\n",
       "    }\n",
       "\n",
       "    .dataframe tbody tr th {\n",
       "        vertical-align: top;\n",
       "    }\n",
       "\n",
       "    .dataframe thead th {\n",
       "        text-align: right;\n",
       "    }\n",
       "</style>\n",
       "<table border=\"1\" class=\"dataframe\">\n",
       "  <thead>\n",
       "    <tr style=\"text-align: right;\">\n",
       "      <th></th>\n",
       "      <th>Student_ID</th>\n",
       "      <th>Student_Name</th>\n",
       "      <th>Gender</th>\n",
       "      <th>Age</th>\n",
       "      <th>Grade_Level</th>\n",
       "      <th>Subject</th>\n",
       "      <th>Test_Score</th>\n",
       "      <th>Attendance_Rate</th>\n",
       "      <th>Study_Hours_Per_Week</th>\n",
       "      <th>Participation_Level</th>\n",
       "      <th>Teacher_Rating</th>\n",
       "      <th>Year</th>\n",
       "    </tr>\n",
       "  </thead>\n",
       "  <tbody>\n",
       "    <tr>\n",
       "      <th>0</th>\n",
       "      <td>1</td>\n",
       "      <td>Alice Smith</td>\n",
       "      <td>Female</td>\n",
       "      <td>14</td>\n",
       "      <td>8th Grade</td>\n",
       "      <td>Mathematics</td>\n",
       "      <td>85.5</td>\n",
       "      <td>95.0</td>\n",
       "      <td>12.5</td>\n",
       "      <td>High</td>\n",
       "      <td>4.5</td>\n",
       "      <td>2023</td>\n",
       "    </tr>\n",
       "    <tr>\n",
       "      <th>1</th>\n",
       "      <td>2</td>\n",
       "      <td>Bob Johnson</td>\n",
       "      <td>Male</td>\n",
       "      <td>15</td>\n",
       "      <td>9th Grade</td>\n",
       "      <td>Science</td>\n",
       "      <td>78.0</td>\n",
       "      <td>88.5</td>\n",
       "      <td>10.0</td>\n",
       "      <td>Medium</td>\n",
       "      <td>4.0</td>\n",
       "      <td>2023</td>\n",
       "    </tr>\n",
       "    <tr>\n",
       "      <th>2</th>\n",
       "      <td>3</td>\n",
       "      <td>Charlie Brown</td>\n",
       "      <td>Male</td>\n",
       "      <td>13</td>\n",
       "      <td>7th Grade</td>\n",
       "      <td>English</td>\n",
       "      <td>92.0</td>\n",
       "      <td>98.0</td>\n",
       "      <td>15.0</td>\n",
       "      <td>High</td>\n",
       "      <td>4.8</td>\n",
       "      <td>2023</td>\n",
       "    </tr>\n",
       "    <tr>\n",
       "      <th>3</th>\n",
       "      <td>4</td>\n",
       "      <td>Diana Prince</td>\n",
       "      <td>Female</td>\n",
       "      <td>14</td>\n",
       "      <td>8th Grade</td>\n",
       "      <td>History</td>\n",
       "      <td>88.0</td>\n",
       "      <td>90.5</td>\n",
       "      <td>13.0</td>\n",
       "      <td>High</td>\n",
       "      <td>4.6</td>\n",
       "      <td>2023</td>\n",
       "    </tr>\n",
       "    <tr>\n",
       "      <th>4</th>\n",
       "      <td>5</td>\n",
       "      <td>Ethan Hunt</td>\n",
       "      <td>Male</td>\n",
       "      <td>15</td>\n",
       "      <td>9th Grade</td>\n",
       "      <td>Mathematics</td>\n",
       "      <td>75.5</td>\n",
       "      <td>80.0</td>\n",
       "      <td>8.5</td>\n",
       "      <td>Low</td>\n",
       "      <td>3.8</td>\n",
       "      <td>2023</td>\n",
       "    </tr>\n",
       "  </tbody>\n",
       "</table>\n",
       "</div>"
      ],
      "text/plain": [
       "   Student_ID   Student_Name  Gender  Age Grade_Level      Subject  \\\n",
       "0           1    Alice Smith  Female   14   8th Grade  Mathematics   \n",
       "1           2    Bob Johnson    Male   15   9th Grade      Science   \n",
       "2           3  Charlie Brown    Male   13   7th Grade      English   \n",
       "3           4   Diana Prince  Female   14   8th Grade      History   \n",
       "4           5     Ethan Hunt    Male   15   9th Grade  Mathematics   \n",
       "\n",
       "   Test_Score  Attendance_Rate  Study_Hours_Per_Week Participation_Level  \\\n",
       "0        85.5             95.0                  12.5                High   \n",
       "1        78.0             88.5                  10.0              Medium   \n",
       "2        92.0             98.0                  15.0                High   \n",
       "3        88.0             90.5                  13.0                High   \n",
       "4        75.5             80.0                   8.5                 Low   \n",
       "\n",
       "   Teacher_Rating  Year  \n",
       "0             4.5  2023  \n",
       "1             4.0  2023  \n",
       "2             4.8  2023  \n",
       "3             4.6  2023  \n",
       "4             3.8  2023  "
      ]
     },
     "execution_count": 8,
     "metadata": {},
     "output_type": "execute_result"
    }
   ],
   "source": [
    "df = pd.read_sql(query, db_connection)\n",
    "\n",
    "# Prints the first 5 rows of the dataset\n",
    "df.head()\n"
   ]
  },
  {
   "cell_type": "markdown",
   "metadata": {},
   "source": [
    "**Insight**\n",
    "\n",
    "Here we print first five rows of the dataset."
   ]
  },
  {
   "cell_type": "code",
   "execution_count": 9,
   "metadata": {},
   "outputs": [
    {
     "data": {
      "text/html": [
       "<div>\n",
       "<style scoped>\n",
       "    .dataframe tbody tr th:only-of-type {\n",
       "        vertical-align: middle;\n",
       "    }\n",
       "\n",
       "    .dataframe tbody tr th {\n",
       "        vertical-align: top;\n",
       "    }\n",
       "\n",
       "    .dataframe thead th {\n",
       "        text-align: right;\n",
       "    }\n",
       "</style>\n",
       "<table border=\"1\" class=\"dataframe\">\n",
       "  <thead>\n",
       "    <tr style=\"text-align: right;\">\n",
       "      <th></th>\n",
       "      <th>Student_ID</th>\n",
       "      <th>Student_Name</th>\n",
       "      <th>Gender</th>\n",
       "      <th>Age</th>\n",
       "      <th>Grade_Level</th>\n",
       "      <th>Subject</th>\n",
       "      <th>Test_Score</th>\n",
       "      <th>Attendance_Rate</th>\n",
       "      <th>Study_Hours_Per_Week</th>\n",
       "      <th>Participation_Level</th>\n",
       "      <th>Teacher_Rating</th>\n",
       "      <th>Year</th>\n",
       "    </tr>\n",
       "  </thead>\n",
       "  <tbody>\n",
       "    <tr>\n",
       "      <th>45</th>\n",
       "      <td>46</td>\n",
       "      <td>Tony Stark</td>\n",
       "      <td>Male</td>\n",
       "      <td>15</td>\n",
       "      <td>9th Grade</td>\n",
       "      <td>Science</td>\n",
       "      <td>90.0</td>\n",
       "      <td>94.0</td>\n",
       "      <td>13.0</td>\n",
       "      <td>High</td>\n",
       "      <td>4.7</td>\n",
       "      <td>2023</td>\n",
       "    </tr>\n",
       "    <tr>\n",
       "      <th>46</th>\n",
       "      <td>47</td>\n",
       "      <td>Ursula Winters</td>\n",
       "      <td>Female</td>\n",
       "      <td>14</td>\n",
       "      <td>8th Grade</td>\n",
       "      <td>History</td>\n",
       "      <td>82.0</td>\n",
       "      <td>87.0</td>\n",
       "      <td>10.5</td>\n",
       "      <td>Medium</td>\n",
       "      <td>4.2</td>\n",
       "      <td>2023</td>\n",
       "    </tr>\n",
       "    <tr>\n",
       "      <th>47</th>\n",
       "      <td>48</td>\n",
       "      <td>Violet Baudelaire</td>\n",
       "      <td>Female</td>\n",
       "      <td>13</td>\n",
       "      <td>7th Grade</td>\n",
       "      <td>English</td>\n",
       "      <td>89.5</td>\n",
       "      <td>93.0</td>\n",
       "      <td>12.5</td>\n",
       "      <td>High</td>\n",
       "      <td>4.6</td>\n",
       "      <td>2023</td>\n",
       "    </tr>\n",
       "    <tr>\n",
       "      <th>48</th>\n",
       "      <td>49</td>\n",
       "      <td>Walter White</td>\n",
       "      <td>Male</td>\n",
       "      <td>15</td>\n",
       "      <td>9th Grade</td>\n",
       "      <td>Mathematics</td>\n",
       "      <td>76.0</td>\n",
       "      <td>81.0</td>\n",
       "      <td>9.0</td>\n",
       "      <td>Medium</td>\n",
       "      <td>4.0</td>\n",
       "      <td>2023</td>\n",
       "    </tr>\n",
       "    <tr>\n",
       "      <th>49</th>\n",
       "      <td>50</td>\n",
       "      <td>Xenia Onatopp</td>\n",
       "      <td>Female</td>\n",
       "      <td>14</td>\n",
       "      <td>8th Grade</td>\n",
       "      <td>Science</td>\n",
       "      <td>73.5</td>\n",
       "      <td>78.0</td>\n",
       "      <td>8.5</td>\n",
       "      <td>Low</td>\n",
       "      <td>3.9</td>\n",
       "      <td>2023</td>\n",
       "    </tr>\n",
       "  </tbody>\n",
       "</table>\n",
       "</div>"
      ],
      "text/plain": [
       "    Student_ID       Student_Name  Gender  Age Grade_Level      Subject  \\\n",
       "45          46         Tony Stark    Male   15   9th Grade      Science   \n",
       "46          47     Ursula Winters  Female   14   8th Grade      History   \n",
       "47          48  Violet Baudelaire  Female   13   7th Grade      English   \n",
       "48          49       Walter White    Male   15   9th Grade  Mathematics   \n",
       "49          50      Xenia Onatopp  Female   14   8th Grade      Science   \n",
       "\n",
       "    Test_Score  Attendance_Rate  Study_Hours_Per_Week Participation_Level  \\\n",
       "45        90.0             94.0                  13.0                High   \n",
       "46        82.0             87.0                  10.5              Medium   \n",
       "47        89.5             93.0                  12.5                High   \n",
       "48        76.0             81.0                   9.0              Medium   \n",
       "49        73.5             78.0                   8.5                 Low   \n",
       "\n",
       "    Teacher_Rating  Year  \n",
       "45             4.7  2023  \n",
       "46             4.2  2023  \n",
       "47             4.6  2023  \n",
       "48             4.0  2023  \n",
       "49             3.9  2023  "
      ]
     },
     "execution_count": 9,
     "metadata": {},
     "output_type": "execute_result"
    }
   ],
   "source": [
    "# Prints the last 5 rows of the dataset\n",
    "df.tail()"
   ]
  },
  {
   "cell_type": "markdown",
   "metadata": {},
   "source": [
    "**Insight**\n",
    "\n",
    "Here we print last five rows of the dataset"
   ]
  },
  {
   "cell_type": "markdown",
   "metadata": {},
   "source": [
    "# **Dataset Information**"
   ]
  },
  {
   "cell_type": "code",
   "execution_count": 10,
   "metadata": {},
   "outputs": [
    {
     "name": "stdout",
     "output_type": "stream",
     "text": [
      "<class 'pandas.core.frame.DataFrame'>\n",
      "RangeIndex: 50 entries, 0 to 49\n",
      "Data columns (total 12 columns):\n",
      " #   Column                Non-Null Count  Dtype  \n",
      "---  ------                --------------  -----  \n",
      " 0   Student_ID            50 non-null     int64  \n",
      " 1   Student_Name          50 non-null     object \n",
      " 2   Gender                50 non-null     object \n",
      " 3   Age                   50 non-null     int64  \n",
      " 4   Grade_Level           50 non-null     object \n",
      " 5   Subject               50 non-null     object \n",
      " 6   Test_Score            50 non-null     float64\n",
      " 7   Attendance_Rate       50 non-null     float64\n",
      " 8   Study_Hours_Per_Week  50 non-null     float64\n",
      " 9   Participation_Level   50 non-null     object \n",
      " 10  Teacher_Rating        50 non-null     float64\n",
      " 11  Year                  50 non-null     int64  \n",
      "dtypes: float64(4), int64(3), object(5)\n",
      "memory usage: 4.8+ KB\n"
     ]
    }
   ],
   "source": [
    "# Information about dataset\n",
    "\n",
    "df.info()"
   ]
  },
  {
   "cell_type": "markdown",
   "metadata": {},
   "source": [
    "**Insight**\n",
    "\n",
    "We use info() to get concise summary of our dataset."
   ]
  },
  {
   "cell_type": "code",
   "execution_count": 11,
   "metadata": {},
   "outputs": [
    {
     "data": {
      "text/plain": [
       "Index(['Student_ID', 'Student_Name', 'Gender', 'Age', 'Grade_Level', 'Subject',\n",
       "       'Test_Score', 'Attendance_Rate', 'Study_Hours_Per_Week',\n",
       "       'Participation_Level', 'Teacher_Rating', 'Year'],\n",
       "      dtype='object')"
      ]
     },
     "execution_count": 11,
     "metadata": {},
     "output_type": "execute_result"
    }
   ],
   "source": [
    "# Getting list of all columns present in the dataframe\n",
    "df.columns"
   ]
  },
  {
   "cell_type": "markdown",
   "metadata": {},
   "source": [
    "**Insight**\n",
    "\n",
    "Print the column name present in the dataset"
   ]
  },
  {
   "cell_type": "markdown",
   "metadata": {},
   "source": [
    "# Exploratory Data Analysis"
   ]
  },
  {
   "cell_type": "markdown",
   "metadata": {},
   "source": [
    "**Descriptive Statistics Overview**"
   ]
  },
  {
   "cell_type": "code",
   "execution_count": 12,
   "metadata": {},
   "outputs": [
    {
     "data": {
      "text/html": [
       "<div>\n",
       "<style scoped>\n",
       "    .dataframe tbody tr th:only-of-type {\n",
       "        vertical-align: middle;\n",
       "    }\n",
       "\n",
       "    .dataframe tbody tr th {\n",
       "        vertical-align: top;\n",
       "    }\n",
       "\n",
       "    .dataframe thead th {\n",
       "        text-align: right;\n",
       "    }\n",
       "</style>\n",
       "<table border=\"1\" class=\"dataframe\">\n",
       "  <thead>\n",
       "    <tr style=\"text-align: right;\">\n",
       "      <th></th>\n",
       "      <th>Student_ID</th>\n",
       "      <th>Age</th>\n",
       "      <th>Test_Score</th>\n",
       "      <th>Attendance_Rate</th>\n",
       "      <th>Study_Hours_Per_Week</th>\n",
       "      <th>Teacher_Rating</th>\n",
       "      <th>Year</th>\n",
       "    </tr>\n",
       "  </thead>\n",
       "  <tbody>\n",
       "    <tr>\n",
       "      <th>count</th>\n",
       "      <td>50.00000</td>\n",
       "      <td>50.000000</td>\n",
       "      <td>50.000000</td>\n",
       "      <td>50.000000</td>\n",
       "      <td>50.000000</td>\n",
       "      <td>50.000000</td>\n",
       "      <td>50.0</td>\n",
       "    </tr>\n",
       "    <tr>\n",
       "      <th>mean</th>\n",
       "      <td>25.50000</td>\n",
       "      <td>14.020000</td>\n",
       "      <td>82.510000</td>\n",
       "      <td>87.010000</td>\n",
       "      <td>11.010000</td>\n",
       "      <td>4.284000</td>\n",
       "      <td>2023.0</td>\n",
       "    </tr>\n",
       "    <tr>\n",
       "      <th>std</th>\n",
       "      <td>14.57738</td>\n",
       "      <td>0.795138</td>\n",
       "      <td>8.077109</td>\n",
       "      <td>7.583205</td>\n",
       "      <td>2.437986</td>\n",
       "      <td>0.397112</td>\n",
       "      <td>0.0</td>\n",
       "    </tr>\n",
       "    <tr>\n",
       "      <th>min</th>\n",
       "      <td>1.00000</td>\n",
       "      <td>13.000000</td>\n",
       "      <td>65.000000</td>\n",
       "      <td>70.000000</td>\n",
       "      <td>6.000000</td>\n",
       "      <td>3.500000</td>\n",
       "      <td>2023.0</td>\n",
       "    </tr>\n",
       "    <tr>\n",
       "      <th>25%</th>\n",
       "      <td>13.25000</td>\n",
       "      <td>13.000000</td>\n",
       "      <td>75.625000</td>\n",
       "      <td>80.250000</td>\n",
       "      <td>9.125000</td>\n",
       "      <td>4.000000</td>\n",
       "      <td>2023.0</td>\n",
       "    </tr>\n",
       "    <tr>\n",
       "      <th>50%</th>\n",
       "      <td>25.50000</td>\n",
       "      <td>14.000000</td>\n",
       "      <td>83.500000</td>\n",
       "      <td>88.250000</td>\n",
       "      <td>11.000000</td>\n",
       "      <td>4.300000</td>\n",
       "      <td>2023.0</td>\n",
       "    </tr>\n",
       "    <tr>\n",
       "      <th>75%</th>\n",
       "      <td>37.75000</td>\n",
       "      <td>15.000000</td>\n",
       "      <td>88.875000</td>\n",
       "      <td>93.000000</td>\n",
       "      <td>13.000000</td>\n",
       "      <td>4.600000</td>\n",
       "      <td>2023.0</td>\n",
       "    </tr>\n",
       "    <tr>\n",
       "      <th>max</th>\n",
       "      <td>50.00000</td>\n",
       "      <td>15.000000</td>\n",
       "      <td>95.500000</td>\n",
       "      <td>99.000000</td>\n",
       "      <td>15.000000</td>\n",
       "      <td>4.900000</td>\n",
       "      <td>2023.0</td>\n",
       "    </tr>\n",
       "  </tbody>\n",
       "</table>\n",
       "</div>"
      ],
      "text/plain": [
       "       Student_ID        Age  Test_Score  Attendance_Rate  \\\n",
       "count    50.00000  50.000000   50.000000        50.000000   \n",
       "mean     25.50000  14.020000   82.510000        87.010000   \n",
       "std      14.57738   0.795138    8.077109         7.583205   \n",
       "min       1.00000  13.000000   65.000000        70.000000   \n",
       "25%      13.25000  13.000000   75.625000        80.250000   \n",
       "50%      25.50000  14.000000   83.500000        88.250000   \n",
       "75%      37.75000  15.000000   88.875000        93.000000   \n",
       "max      50.00000  15.000000   95.500000        99.000000   \n",
       "\n",
       "       Study_Hours_Per_Week  Teacher_Rating    Year  \n",
       "count             50.000000       50.000000    50.0  \n",
       "mean              11.010000        4.284000  2023.0  \n",
       "std                2.437986        0.397112     0.0  \n",
       "min                6.000000        3.500000  2023.0  \n",
       "25%                9.125000        4.000000  2023.0  \n",
       "50%               11.000000        4.300000  2023.0  \n",
       "75%               13.000000        4.600000  2023.0  \n",
       "max               15.000000        4.900000  2023.0  "
      ]
     },
     "execution_count": 12,
     "metadata": {},
     "output_type": "execute_result"
    }
   ],
   "source": [
    "# Statistical measurement of the dataset\n",
    "\n",
    "df.describe()"
   ]
  },
  {
   "cell_type": "markdown",
   "metadata": {},
   "source": [
    "**Insight**\n",
    "\n",
    "Describe() give the overall information of our dataset object."
   ]
  },
  {
   "cell_type": "markdown",
   "metadata": {},
   "source": [
    "# Data Cleaning"
   ]
  },
  {
   "cell_type": "markdown",
   "metadata": {},
   "source": [
    "**Missing Values/Null Values**"
   ]
  },
  {
   "cell_type": "code",
   "execution_count": 13,
   "metadata": {},
   "outputs": [
    {
     "data": {
      "text/plain": [
       "Student_ID              0\n",
       "Student_Name            0\n",
       "Gender                  0\n",
       "Age                     0\n",
       "Grade_Level             0\n",
       "Subject                 0\n",
       "Test_Score              0\n",
       "Attendance_Rate         0\n",
       "Study_Hours_Per_Week    0\n",
       "Participation_Level     0\n",
       "Teacher_Rating          0\n",
       "Year                    0\n",
       "dtype: int64"
      ]
     },
     "execution_count": 13,
     "metadata": {},
     "output_type": "execute_result"
    }
   ],
   "source": [
    "# Checking for any missing value\n",
    "\n",
    "df.isnull().sum()"
   ]
  },
  {
   "cell_type": "markdown",
   "metadata": {},
   "source": [
    "**Insight**\n",
    "\n",
    "Here we used isnull().sum() to identify and count missing values (NaNs) in a DataFrame\n",
    "All columns in the DataFrame contain complete data with no missing values, ensuring reliable analysis."
   ]
  },
  {
   "cell_type": "markdown",
   "metadata": {},
   "source": [
    "**Duplicate Values**"
   ]
  },
  {
   "cell_type": "code",
   "execution_count": 14,
   "metadata": {},
   "outputs": [
    {
     "data": {
      "text/plain": [
       "0"
      ]
     },
     "execution_count": 14,
     "metadata": {},
     "output_type": "execute_result"
    }
   ],
   "source": [
    "# Checking for the duplicated value\n",
    "\n",
    "df.duplicated().sum()"
   ]
  },
  {
   "cell_type": "markdown",
   "metadata": {},
   "source": [
    "**Insight**\n",
    "\n",
    "Here we can see there are 0 duplicates values in our dataframe."
   ]
  },
  {
   "cell_type": "markdown",
   "metadata": {},
   "source": [
    "**Unique Values**"
   ]
  },
  {
   "cell_type": "code",
   "execution_count": 17,
   "metadata": {},
   "outputs": [
    {
     "data": {
      "text/plain": [
       "4"
      ]
     },
     "execution_count": 17,
     "metadata": {},
     "output_type": "execute_result"
    }
   ],
   "source": [
    "df['Subject'].nunique()"
   ]
  },
  {
   "cell_type": "markdown",
   "metadata": {},
   "source": [
    "**Insight**\n",
    "\n",
    "Here we can see 4 unique values in our subject column."
   ]
  },
  {
   "cell_type": "markdown",
   "metadata": {},
   "source": [
    "# **Data Visualization**"
   ]
  },
  {
   "cell_type": "markdown",
   "metadata": {},
   "source": [
    "# **Visualisation No.1**\n"
   ]
  },
  {
   "cell_type": "code",
   "execution_count": 21,
   "metadata": {},
   "outputs": [
    {
     "name": "stderr",
     "output_type": "stream",
     "text": [
      "C:\\Users\\lenovo\\AppData\\Local\\Temp\\ipykernel_15700\\4016436814.py:2: FutureWarning: \n",
      "\n",
      "Passing `palette` without assigning `hue` is deprecated and will be removed in v0.14.0. Assign the `x` variable to `hue` and set `legend=False` for the same effect.\n",
      "\n",
      "  sns.countplot(x='Gender', data=df, palette='coolwarm')\n"
     ]
    },
    {
     "data": {
      "image/png": "[encoded data removed]",
      "text/plain": [
       "<Figure size 600x400 with 1 Axes>"
      ]
     },
     "metadata": {},
     "output_type": "display_data"
    }
   ],
   "source": [
    "plt.figure(figsize=(6, 4))\n",
    "sns.countplot(x='Gender', data=df, palette='coolwarm')\n",
    "plt.title(\"Gender Distribution\")\n",
    "plt.show()"
   ]
  },
  {
   "cell_type": "markdown",
   "metadata": {},
   "source": [
    "**Insight**\n",
    "\n",
    "Here we can see more girl students have been enrolled.\n"
   ]
  },
  {
   "cell_type": "markdown",
   "metadata": {},
   "source": [
    "# **Visualisation No.2**"
   ]
  },
  {
   "cell_type": "code",
   "execution_count": 23,
   "metadata": {},
   "outputs": [
    {
     "name": "stderr",
     "output_type": "stream",
     "text": [
      "C:\\Users\\lenovo\\AppData\\Local\\Temp\\ipykernel_15700\\4121207667.py:2: FutureWarning: \n",
      "\n",
      "Passing `palette` without assigning `hue` is deprecated and will be removed in v0.14.0. Assign the `x` variable to `hue` and set `legend=False` for the same effect.\n",
      "\n",
      "  sns.countplot(x='Grade_Level', data=df, palette='viridis')\n"
     ]
    },
    {
     "data": {
      "image/png": "[encoded data removed]",
      "text/plain": [
       "<Figure size 600x400 with 1 Axes>"
      ]
     },
     "metadata": {},
     "output_type": "display_data"
    }
   ],
   "source": [
    "plt.figure(figsize=(6, 4))\n",
    "sns.countplot(x='Grade_Level', data=df, palette='viridis')\n",
    "plt.title(\"Performance Level Distribution\")\n",
    "plt.show()"
   ]
  },
  {
   "cell_type": "markdown",
   "metadata": {},
   "source": [
    "**Insight**\n",
    "\n",
    "In above plot we can see that maximum students are in 8th grade."
   ]
  },
  {
   "cell_type": "markdown",
   "metadata": {},
   "source": [
    "# **Visualisation No.3**"
   ]
  },
  {
   "cell_type": "code",
   "execution_count": 25,
   "metadata": {},
   "outputs": [
    {
     "name": "stdout",
     "output_type": "stream",
     "text": [
      "\n",
      "Average Scores by Subject:\n",
      "       Subject  Test_Score\n",
      "0      English   82.416667\n",
      "1      History   81.590909\n",
      "2  Mathematics   82.961538\n",
      "3      Science   82.892857\n"
     ]
    }
   ],
   "source": [
    "subject_avg = df.groupby('Subject')[['Test_Score']].mean().reset_index()\n",
    "print(\"\\nAverage Scores by Subject:\")\n",
    "print(subject_avg)\n"
   ]
  },
  {
   "cell_type": "markdown",
   "metadata": {},
   "source": [
    "**Insight**\n",
    "\n",
    "Here we find the average test score of each subject.\n"
   ]
  },
  {
   "cell_type": "markdown",
   "metadata": {},
   "source": [
    "# **Visualization No.4**"
   ]
  },
  {
   "cell_type": "code",
   "execution_count": 27,
   "metadata": {},
   "outputs": [
    {
     "name": "stderr",
     "output_type": "stream",
     "text": [
      "C:\\Users\\lenovo\\AppData\\Local\\Temp\\ipykernel_15700\\1555245074.py:2: FutureWarning: \n",
      "\n",
      "Passing `palette` without assigning `hue` is deprecated and will be removed in v0.14.0. Assign the `x` variable to `hue` and set `legend=False` for the same effect.\n",
      "\n",
      "  sns.boxplot(x='Grade_Level', y='Teacher_Rating', data=df, palette='Set2')\n"
     ]
    },
    {
     "data": {
      "image/png": "[encoded data removed]",
      "text/plain": [
       "<Figure size 800x600 with 1 Axes>"
      ]
     },
     "metadata": {},
     "output_type": "display_data"
    }
   ],
   "source": [
    "plt.figure(figsize=(8, 6))\n",
    "sns.boxplot(x='Grade_Level', y='Teacher_Rating', data=df, palette='Set2')\n",
    "plt.title(\"Grade-wise Rating Distribution\")\n",
    "plt.show()\n"
   ]
  },
  {
   "cell_type": "markdown",
   "metadata": {},
   "source": [
    "**Insight**\n",
    "\n",
    "Here we find that the teacher ratings spread more for 9th grade."
   ]
  },
  {
   "cell_type": "markdown",
   "metadata": {},
   "source": [
    "# **Visualization No.5**"
   ]
  },
  {
   "cell_type": "code",
   "execution_count": 7,
   "metadata": {},
   "outputs": [
    {
     "data": {
      "image/png": "[encoded data removed]",
      "text/plain": [
       "<Figure size 1000x600 with 2 Axes>"
      ]
     },
     "metadata": {},
     "output_type": "display_data"
    }
   ],
   "source": [
    "# Select only numeric columns\n",
    "numeric_df = df.select_dtypes(include=['float64', 'int64'])\n",
    "\n",
    "# Correlation Heatmap\n",
    "plt.figure(figsize=(10, 6))\n",
    "sns.heatmap(numeric_df.corr(), annot=True, cmap='coolwarm')\n",
    "plt.title('Correlation Heatmap')\n",
    "plt.show()\n"
   ]
  },
  {
   "cell_type": "markdown",
   "metadata": {},
   "source": [
    "**Insight**\n",
    "\n",
    "These relationships indicate that consistent attendance, study habits, and teacher performance contribute positively to test scores."
   ]
  },
  {
   "cell_type": "markdown",
   "metadata": {},
   "source": [
    "# **Visualisation No.6**"
   ]
  },
  {
   "cell_type": "code",
   "execution_count": 8,
   "metadata": {},
   "outputs": [
    {
     "data": {
      "image/png": "[encoded data removed]",
      "text/plain": [
       "<Figure size 600x400 with 1 Axes>"
      ]
     },
     "metadata": {},
     "output_type": "display_data"
    }
   ],
   "source": [
    "# Test Scores distribution\n",
    "plt.figure(figsize=(6, 4))\n",
    "sns.histplot(df['Test_Score'], kde=True, color='skyblue')\n",
    "plt.title('Distribution of Test Scores')\n",
    "plt.show()\n"
   ]
  },
  {
   "cell_type": "markdown",
   "metadata": {},
   "source": [
    "**Insight**\n",
    "\n",
    "The majority of students perform well, with scores clustering between 75 and 95. However, there are a few lower-performing students (scores near 65), which could indicate areas for improvement or targeted interventions. The KDE curve highlights the dominance of high scores while showing a gradual decline in the upper tail."
   ]
  },
  {
   "cell_type": "markdown",
   "metadata": {},
   "source": [
    "# **Visualization No.7**"
   ]
  },
  {
   "cell_type": "code",
   "execution_count": 9,
   "metadata": {},
   "outputs": [
    {
     "data": {
      "image/png": "[encoded data removed]",
      "text/plain": [
       "<Figure size 800x600 with 1 Axes>"
      ]
     },
     "metadata": {},
     "output_type": "display_data"
    }
   ],
   "source": [
    "# Attendance Rate vs Test Score\n",
    "plt.figure(figsize=(8, 6))\n",
    "sns.scatterplot(data=df, x='Attendance_Rate', y='Test_Score', hue='Gender', palette='Set1')\n",
    "plt.title('Attendance Rate vs Test Score')\n",
    "plt.show()"
   ]
  },
  {
   "cell_type": "markdown",
   "metadata": {},
   "source": [
    "**Insight**\n",
    "\n",
    "We see here that improving attendance can positively influence test scores. Additionally, female students appear to perform slightly better in the top attendance bracket."
   ]
  },
  {
   "cell_type": "markdown",
   "metadata": {},
   "source": [
    "# **Visualisation No. 8**"
   ]
  },
  {
   "cell_type": "code",
   "execution_count": 10,
   "metadata": {},
   "outputs": [
    {
     "data": {
      "image/png": "[encoded data removed]",
      "text/plain": [
       "<Figure size 800x600 with 1 Axes>"
      ]
     },
     "metadata": {},
     "output_type": "display_data"
    }
   ],
   "source": [
    "plt.figure(figsize=(8, 6))\n",
    "sns.scatterplot(data=df, x='Study_Hours_Per_Week', y='Test_Score', hue='Grade_Level', palette='husl')\n",
    "plt.title('Study Hours vs Test Score')\n",
    "plt.show()\n"
   ]
  },
  {
   "cell_type": "markdown",
   "metadata": {},
   "source": [
    "**Insight**\n",
    "\n",
    "We observe that test scores incrase with study hours per week which is a posiive sign."
   ]
  },
  {
   "cell_type": "markdown",
   "metadata": {},
   "source": [
    "# **Visualisation No.9**"
   ]
  },
  {
   "cell_type": "code",
   "execution_count": 11,
   "metadata": {},
   "outputs": [
    {
     "name": "stderr",
     "output_type": "stream",
     "text": [
      "C:\\Users\\lenovo\\AppData\\Local\\Temp\\ipykernel_44484\\1130640265.py:3: FutureWarning: \n",
      "\n",
      "Passing `palette` without assigning `hue` is deprecated and will be removed in v0.14.0. Assign the `x` variable to `hue` and set `legend=False` for the same effect.\n",
      "\n",
      "  sns.countplot(data=df, x='Participation_Level', palette='bright')\n"
     ]
    },
    {
     "data": {
      "image/png": "[encoded data removed]",
      "text/plain": [
       "<Figure size 600x400 with 1 Axes>"
      ]
     },
     "metadata": {},
     "output_type": "display_data"
    }
   ],
   "source": [
    "# Participation Level counts\n",
    "plt.figure(figsize=(6, 4))\n",
    "sns.countplot(data=df, x='Participation_Level', palette='bright')\n",
    "plt.title('Participation Level Distribution')\n",
    "plt.show()\n"
   ]
  },
  {
   "cell_type": "markdown",
   "metadata": {},
   "source": [
    "**Insight**\n",
    "\n",
    "We here notice that most students have shown active participation."
   ]
  },
  {
   "cell_type": "code",
   "execution_count": 12,
   "metadata": {},
   "outputs": [
    {
     "data": {
      "image/png": "[encoded data removed]",
      "text/plain": [
       "<Figure size 600x400 with 1 Axes>"
      ]
     },
     "metadata": {},
     "output_type": "display_data"
    }
   ],
   "source": [
    "# Teacher Rating analysis\n",
    "plt.figure(figsize=(6, 4))\n",
    "sns.histplot(df['Teacher_Rating'], kde=True, color='orange')\n",
    "plt.title('Distribution of Teacher Ratings')\n",
    "plt.show()"
   ]
  },
  {
   "cell_type": "markdown",
   "metadata": {},
   "source": [
    "**Insight** \n",
    "\n",
    "We here observe that the ratings are mostly high which shows overall satisfaction"
   ]
  },
  {
   "cell_type": "markdown",
   "metadata": {},
   "source": [
    "# **CONCLUSION**\n",
    "\n",
    "The analysis of the student data reveals key insights into factors influencing academic performance and engagement. A positive correlation between study hours and test scores suggests that increased study time generally leads to better performance, although variations based on grade level and individual habits were observed. The participation level distribution highlights differences in student engagement, with potential areas for improvement in participation for certain groups. The teacher ratings indicate general satisfaction, but some outliers may require further investigation to identify areas for teacher development. Overall, the findings can guide educational strategies to enhance student performance, participation, and teacher effectiveness."
   ]
  },
  {
   "cell_type": "markdown",
   "metadata": {},
   "source": [
    "# **Future Recommendations**\n",
    "1) Focus on Effective Study Techniques: Encourage students to optimize study hours for better results, especially for those with high study hours but low test scores.\n",
    "2) Enhance Student Engagement: Develop programs to improve participation for students with lower engagement levels.\n",
    "3) Teacher Support: Provide targeted support and training for teachers based on the feedback from teacher ratings.\n",
    "4) Monitor Trends: Continuously track study habits, participation, and performance to adjust strategies for academic improvement."
   ]
  }
 ],
 "metadata": {
  "kernelspec": {
   "display_name": "Python 3",
   "language": "python",
   "name": "python3"
  },
  "language_info": {
   "codemirror_mode": {
    "name": "ipython",
    "version": 3
   },
   "file_extension": ".py",
   "mimetype": "text/x-python",
   "name": "python",
   "nbconvert_exporter": "python",
   "pygments_lexer": "ipython3",
   "version": "3.11.5"
  }
 },
 "nbformat": 4,
 "nbformat_minor": 2
}
